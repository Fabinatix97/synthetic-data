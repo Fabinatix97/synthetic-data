{
 "cells": [
  {
   "cell_type": "markdown",
   "id": "d9961a5e",
   "metadata": {},
   "source": [
    "## 0. Installation\n",
    "\n",
    "Install the SDV community"
   ]
  },
  {
   "cell_type": "code",
   "execution_count": null,
   "id": "bce3f8b2",
   "metadata": {},
   "outputs": [],
   "source": [
    "%pip install sdv"
   ]
  },
  {
   "cell_type": "markdown",
   "id": "7215d51f",
   "metadata": {},
   "source": [
    "## 1. Loading the libraries"
   ]
  },
  {
   "cell_type": "code",
   "execution_count": 22,
   "id": "5f711dd2",
   "metadata": {},
   "outputs": [],
   "source": [
    "from sdv.datasets.demo import download_demo\n",
    "from sdv.single_table import CTGANSynthesizer\n",
    "from sdv.evaluation.single_table import run_diagnostic, evaluate_quality, get_column_plot, get_column_pair_plot\n",
    "import time"
   ]
  },
  {
   "cell_type": "markdown",
   "id": "a30a4558",
   "metadata": {},
   "source": [
    "## 2. Loading the data"
   ]
  },
  {
   "cell_type": "code",
   "execution_count": 23,
   "id": "83f72012",
   "metadata": {},
   "outputs": [
    {
     "data": {
      "text/html": [
       "<div>\n",
       "<style scoped>\n",
       "    .dataframe tbody tr th:only-of-type {\n",
       "        vertical-align: middle;\n",
       "    }\n",
       "\n",
       "    .dataframe tbody tr th {\n",
       "        vertical-align: top;\n",
       "    }\n",
       "\n",
       "    .dataframe thead th {\n",
       "        text-align: right;\n",
       "    }\n",
       "</style>\n",
       "<table border=\"1\" class=\"dataframe\">\n",
       "  <thead>\n",
       "    <tr style=\"text-align: right;\">\n",
       "      <th></th>\n",
       "      <th>id</th>\n",
       "      <th>age</th>\n",
       "      <th>workclass</th>\n",
       "      <th>fnlwgt</th>\n",
       "      <th>education</th>\n",
       "      <th>education-num</th>\n",
       "      <th>marital-status</th>\n",
       "      <th>occupation</th>\n",
       "      <th>relationship</th>\n",
       "      <th>race</th>\n",
       "      <th>sex</th>\n",
       "      <th>capital-gain</th>\n",
       "      <th>capital-loss</th>\n",
       "      <th>hours-per-week</th>\n",
       "      <th>native-country</th>\n",
       "      <th>income</th>\n",
       "      <th>dob</th>\n",
       "      <th>address</th>\n",
       "      <th>pob</th>\n",
       "    </tr>\n",
       "  </thead>\n",
       "  <tbody>\n",
       "    <tr>\n",
       "      <th>0</th>\n",
       "      <td>1</td>\n",
       "      <td>39</td>\n",
       "      <td>State-gov</td>\n",
       "      <td>77516</td>\n",
       "      <td>Bachelors</td>\n",
       "      <td>13</td>\n",
       "      <td>Never-married</td>\n",
       "      <td>Adm-clerical</td>\n",
       "      <td>Not-in-family</td>\n",
       "      <td>White</td>\n",
       "      <td>Male</td>\n",
       "      <td>2174</td>\n",
       "      <td>0</td>\n",
       "      <td>40</td>\n",
       "      <td>United-States</td>\n",
       "      <td>&lt;=50K</td>\n",
       "      <td>1980-11-07</td>\n",
       "      <td>058 Wilson Inlet Apt. 470\\nLake Miguel, FL 06513</td>\n",
       "      <td>Washington, D.C.</td>\n",
       "    </tr>\n",
       "    <tr>\n",
       "      <th>1</th>\n",
       "      <td>2</td>\n",
       "      <td>50</td>\n",
       "      <td>Self-emp-not-inc</td>\n",
       "      <td>83311</td>\n",
       "      <td>Bachelors</td>\n",
       "      <td>13</td>\n",
       "      <td>Married-civ-spouse</td>\n",
       "      <td>Exec-managerial</td>\n",
       "      <td>Husband</td>\n",
       "      <td>White</td>\n",
       "      <td>Male</td>\n",
       "      <td>0</td>\n",
       "      <td>0</td>\n",
       "      <td>13</td>\n",
       "      <td>United-States</td>\n",
       "      <td>&lt;=50K</td>\n",
       "      <td>1969-08-20</td>\n",
       "      <td>9915 Andrew Road\\nEricashire, NC 38090</td>\n",
       "      <td>Washington, D.C.</td>\n",
       "    </tr>\n",
       "    <tr>\n",
       "      <th>2</th>\n",
       "      <td>3</td>\n",
       "      <td>38</td>\n",
       "      <td>Private</td>\n",
       "      <td>215646</td>\n",
       "      <td>HS-grad</td>\n",
       "      <td>9</td>\n",
       "      <td>Divorced</td>\n",
       "      <td>Handlers-cleaners</td>\n",
       "      <td>Not-in-family</td>\n",
       "      <td>White</td>\n",
       "      <td>Male</td>\n",
       "      <td>0</td>\n",
       "      <td>0</td>\n",
       "      <td>40</td>\n",
       "      <td>United-States</td>\n",
       "      <td>&lt;=50K</td>\n",
       "      <td>1982-06-03</td>\n",
       "      <td>4656 Tammy Terrace\\nEast Tonyahaven, NE 13680</td>\n",
       "      <td>Washington, D.C.</td>\n",
       "    </tr>\n",
       "    <tr>\n",
       "      <th>3</th>\n",
       "      <td>4</td>\n",
       "      <td>53</td>\n",
       "      <td>Private</td>\n",
       "      <td>234721</td>\n",
       "      <td>11th</td>\n",
       "      <td>7</td>\n",
       "      <td>Married-civ-spouse</td>\n",
       "      <td>Handlers-cleaners</td>\n",
       "      <td>Husband</td>\n",
       "      <td>Black</td>\n",
       "      <td>Male</td>\n",
       "      <td>0</td>\n",
       "      <td>0</td>\n",
       "      <td>40</td>\n",
       "      <td>United-States</td>\n",
       "      <td>&lt;=50K</td>\n",
       "      <td>1967-06-23</td>\n",
       "      <td>503 Danielle Dam\\nSouth Melissashire, AR 33167</td>\n",
       "      <td>Washington, D.C.</td>\n",
       "    </tr>\n",
       "    <tr>\n",
       "      <th>4</th>\n",
       "      <td>5</td>\n",
       "      <td>28</td>\n",
       "      <td>Private</td>\n",
       "      <td>338409</td>\n",
       "      <td>Bachelors</td>\n",
       "      <td>13</td>\n",
       "      <td>Married-civ-spouse</td>\n",
       "      <td>Prof-specialty</td>\n",
       "      <td>Wife</td>\n",
       "      <td>Black</td>\n",
       "      <td>Female</td>\n",
       "      <td>0</td>\n",
       "      <td>0</td>\n",
       "      <td>40</td>\n",
       "      <td>Cuba</td>\n",
       "      <td>&lt;=50K</td>\n",
       "      <td>1992-06-16</td>\n",
       "      <td>584 Anderson Forks Suite 203\\nGilesside, NM 78530</td>\n",
       "      <td>Habana</td>\n",
       "    </tr>\n",
       "  </tbody>\n",
       "</table>\n",
       "</div>"
      ],
      "text/plain": [
       "   id  age          workclass  fnlwgt   education  education-num  \\\n",
       "0   1   39          State-gov   77516   Bachelors             13   \n",
       "1   2   50   Self-emp-not-inc   83311   Bachelors             13   \n",
       "2   3   38            Private  215646     HS-grad              9   \n",
       "3   4   53            Private  234721        11th              7   \n",
       "4   5   28            Private  338409   Bachelors             13   \n",
       "\n",
       "        marital-status          occupation    relationship    race      sex  \\\n",
       "0        Never-married        Adm-clerical   Not-in-family   White     Male   \n",
       "1   Married-civ-spouse     Exec-managerial         Husband   White     Male   \n",
       "2             Divorced   Handlers-cleaners   Not-in-family   White     Male   \n",
       "3   Married-civ-spouse   Handlers-cleaners         Husband   Black     Male   \n",
       "4   Married-civ-spouse      Prof-specialty            Wife   Black   Female   \n",
       "\n",
       "   capital-gain  capital-loss  hours-per-week  native-country  income  \\\n",
       "0          2174             0              40   United-States   <=50K   \n",
       "1             0             0              13   United-States   <=50K   \n",
       "2             0             0              40   United-States   <=50K   \n",
       "3             0             0              40   United-States   <=50K   \n",
       "4             0             0              40            Cuba   <=50K   \n",
       "\n",
       "          dob                                            address  \\\n",
       "0  1980-11-07   058 Wilson Inlet Apt. 470\\nLake Miguel, FL 06513   \n",
       "1  1969-08-20             9915 Andrew Road\\nEricashire, NC 38090   \n",
       "2  1982-06-03      4656 Tammy Terrace\\nEast Tonyahaven, NE 13680   \n",
       "3  1967-06-23     503 Danielle Dam\\nSouth Melissashire, AR 33167   \n",
       "4  1992-06-16  584 Anderson Forks Suite 203\\nGilesside, NM 78530   \n",
       "\n",
       "                pob  \n",
       "0  Washington, D.C.  \n",
       "1  Washington, D.C.  \n",
       "2  Washington, D.C.  \n",
       "3  Washington, D.C.  \n",
       "4            Habana  "
      ]
     },
     "execution_count": 23,
     "metadata": {},
     "output_type": "execute_result"
    }
   ],
   "source": [
    "real_data, metadata = download_demo(\n",
    "    modality='single_table',\n",
    "    dataset_name='census_extended'\n",
    ")\n",
    "len(real_data)\n",
    "real_data.head()"
   ]
  },
  {
   "cell_type": "markdown",
   "id": "73b2eec7",
   "metadata": {},
   "source": [
    "Overview of the metadata for the selected dataset"
   ]
  },
  {
   "cell_type": "code",
   "execution_count": 24,
   "id": "5118cfca",
   "metadata": {},
   "outputs": [
    {
     "data": {
      "image/svg+xml": [
       "<?xml version=\"1.0\" encoding=\"UTF-8\" standalone=\"no\"?>\n",
       "<!DOCTYPE svg PUBLIC \"-//W3C//DTD SVG 1.1//EN\"\n",
       " \"http://www.w3.org/Graphics/SVG/1.1/DTD/svg11.dtd\">\n",
       "<!-- Generated by graphviz version 12.2.1 (20241206.2353)\n",
       " -->\n",
       "<!-- Title: Metadata Pages: 1 -->\n",
       "<svg width=\"175pt\" height=\"380pt\"\n",
       " viewBox=\"0.00 0.00 174.75 379.50\" xmlns=\"http://www.w3.org/2000/svg\" xmlns:xlink=\"http://www.w3.org/1999/xlink\">\n",
       "<g id=\"graph0\" class=\"graph\" transform=\"scale(1 1) rotate(0) translate(4 375.5)\">\n",
       "<title>Metadata</title>\n",
       "<polygon fill=\"white\" stroke=\"none\" points=\"-4,4 -4,-375.5 170.75,-375.5 170.75,4 -4,4\"/>\n",
       "<!-- census_extended -->\n",
       "<g id=\"node1\" class=\"node\">\n",
       "<title>census_extended</title>\n",
       "<path fill=\"#ffec8b\" stroke=\"black\" d=\"M12,-0.5C12,-0.5 154.75,-0.5 154.75,-0.5 160.75,-0.5 166.75,-6.5 166.75,-12.5 166.75,-12.5 166.75,-359 166.75,-359 166.75,-365 160.75,-371 154.75,-371 154.75,-371 12,-371 12,-371 6,-371 0,-365 0,-359 0,-359 0,-12.5 0,-12.5 0,-6.5 6,-0.5 12,-0.5\"/>\n",
       "<text text-anchor=\"middle\" x=\"83.38\" y=\"-353.7\" font-family=\"Times,serif\" font-size=\"14.00\">census_extended</text>\n",
       "<polyline fill=\"none\" stroke=\"black\" points=\"0,-346.5 166.75,-346.5\"/>\n",
       "<text text-anchor=\"start\" x=\"8\" y=\"-329.2\" font-family=\"Times,serif\" font-size=\"14.00\">id : id</text>\n",
       "<text text-anchor=\"start\" x=\"8\" y=\"-312.7\" font-family=\"Times,serif\" font-size=\"14.00\">relationship : categorical</text>\n",
       "<text text-anchor=\"start\" x=\"8\" y=\"-296.2\" font-family=\"Times,serif\" font-size=\"14.00\">sex : categorical</text>\n",
       "<text text-anchor=\"start\" x=\"8\" y=\"-279.7\" font-family=\"Times,serif\" font-size=\"14.00\">income : categorical</text>\n",
       "<text text-anchor=\"start\" x=\"8\" y=\"-263.2\" font-family=\"Times,serif\" font-size=\"14.00\">education&#45;num : numerical</text>\n",
       "<text text-anchor=\"start\" x=\"8\" y=\"-246.7\" font-family=\"Times,serif\" font-size=\"14.00\">workclass : categorical</text>\n",
       "<text text-anchor=\"start\" x=\"8\" y=\"-230.2\" font-family=\"Times,serif\" font-size=\"14.00\">hours&#45;per&#45;week : numerical</text>\n",
       "<text text-anchor=\"start\" x=\"8\" y=\"-213.7\" font-family=\"Times,serif\" font-size=\"14.00\">fnlwgt : numerical</text>\n",
       "<text text-anchor=\"start\" x=\"8\" y=\"-197.2\" font-family=\"Times,serif\" font-size=\"14.00\">race : categorical</text>\n",
       "<text text-anchor=\"start\" x=\"8\" y=\"-180.7\" font-family=\"Times,serif\" font-size=\"14.00\">occupation : categorical</text>\n",
       "<text text-anchor=\"start\" x=\"8\" y=\"-164.2\" font-family=\"Times,serif\" font-size=\"14.00\">age : numerical</text>\n",
       "<text text-anchor=\"start\" x=\"8\" y=\"-147.7\" font-family=\"Times,serif\" font-size=\"14.00\">capital&#45;gain : numerical</text>\n",
       "<text text-anchor=\"start\" x=\"8\" y=\"-131.2\" font-family=\"Times,serif\" font-size=\"14.00\">native&#45;country : categorical</text>\n",
       "<text text-anchor=\"start\" x=\"8\" y=\"-114.7\" font-family=\"Times,serif\" font-size=\"14.00\">education : categorical</text>\n",
       "<text text-anchor=\"start\" x=\"8\" y=\"-98.2\" font-family=\"Times,serif\" font-size=\"14.00\">marital&#45;status : categorical</text>\n",
       "<text text-anchor=\"start\" x=\"8\" y=\"-81.7\" font-family=\"Times,serif\" font-size=\"14.00\">capital&#45;loss : numerical</text>\n",
       "<text text-anchor=\"start\" x=\"8\" y=\"-65.2\" font-family=\"Times,serif\" font-size=\"14.00\">dob : datetime</text>\n",
       "<text text-anchor=\"start\" x=\"8\" y=\"-48.7\" font-family=\"Times,serif\" font-size=\"14.00\">pob : categorical</text>\n",
       "<text text-anchor=\"start\" x=\"8\" y=\"-32.2\" font-family=\"Times,serif\" font-size=\"14.00\">address : address</text>\n",
       "<polyline fill=\"none\" stroke=\"black\" points=\"0,-25 166.75,-25\"/>\n",
       "<text text-anchor=\"start\" x=\"8\" y=\"-7.7\" font-family=\"Times,serif\" font-size=\"14.00\">Primary key: id</text>\n",
       "</g>\n",
       "</g>\n",
       "</svg>\n"
      ],
      "text/plain": [
       "<graphviz.graphs.Digraph at 0x7fa4185c1590>"
      ]
     },
     "execution_count": 24,
     "metadata": {},
     "output_type": "execute_result"
    }
   ],
   "source": [
    "metadata.visualize()"
   ]
  },
  {
   "cell_type": "markdown",
   "id": "60feec68",
   "metadata": {},
   "source": [
    "## 3. Creating the synthesizer"
   ]
  },
  {
   "cell_type": "markdown",
   "id": "b844064c",
   "metadata": {},
   "source": [
    "Create the synthesizer using the CTGAN algorithm':"
   ]
  },
  {
   "cell_type": "code",
   "execution_count": 25,
   "id": "4fc416a0",
   "metadata": {},
   "outputs": [],
   "source": [
    "synthesizer = CTGANSynthesizer(metadata)"
   ]
  },
  {
   "cell_type": "markdown",
   "id": "69bddb05",
   "metadata": {},
   "source": [
    "Train the synthesizer using the real data (`real_data`):"
   ]
  },
  {
   "cell_type": "code",
   "execution_count": null,
   "id": "e5c6f894",
   "metadata": {},
   "outputs": [],
   "source": [
    "start_time = time.time()\n",
    "synthesizer.fit(\n",
    "    data=real_data\n",
    ")\n",
    "end_time = time.time()\n",
    "execution_time = end_time - start_time\n",
    "minutes = int(execution_time // 60)\n",
    "seconds = execution_time % 60\n",
    "\n",
    "print(f\"Training time: {minutes} minutes and {seconds:.2f} seconds\")"
   ]
  },
  {
   "cell_type": "markdown",
   "id": "65af02de",
   "metadata": {},
   "source": [
    "Computed loss values for each epoch for both the generator and discriminator:"
   ]
  },
  {
   "cell_type": "code",
   "execution_count": 27,
   "id": "5efcfec8",
   "metadata": {},
   "outputs": [
    {
     "data": {
      "text/html": [
       "<div>\n",
       "<style scoped>\n",
       "    .dataframe tbody tr th:only-of-type {\n",
       "        vertical-align: middle;\n",
       "    }\n",
       "\n",
       "    .dataframe tbody tr th {\n",
       "        vertical-align: top;\n",
       "    }\n",
       "\n",
       "    .dataframe thead th {\n",
       "        text-align: right;\n",
       "    }\n",
       "</style>\n",
       "<table border=\"1\" class=\"dataframe\">\n",
       "  <thead>\n",
       "    <tr style=\"text-align: right;\">\n",
       "      <th></th>\n",
       "      <th>Epoch</th>\n",
       "      <th>Generator Loss</th>\n",
       "      <th>Discriminator Loss</th>\n",
       "    </tr>\n",
       "  </thead>\n",
       "  <tbody>\n",
       "    <tr>\n",
       "      <th>0</th>\n",
       "      <td>0</td>\n",
       "      <td>1.765080</td>\n",
       "      <td>-0.439242</td>\n",
       "    </tr>\n",
       "    <tr>\n",
       "      <th>1</th>\n",
       "      <td>1</td>\n",
       "      <td>0.698990</td>\n",
       "      <td>0.237745</td>\n",
       "    </tr>\n",
       "    <tr>\n",
       "      <th>2</th>\n",
       "      <td>2</td>\n",
       "      <td>0.905653</td>\n",
       "      <td>0.034457</td>\n",
       "    </tr>\n",
       "    <tr>\n",
       "      <th>3</th>\n",
       "      <td>3</td>\n",
       "      <td>0.242046</td>\n",
       "      <td>0.237939</td>\n",
       "    </tr>\n",
       "    <tr>\n",
       "      <th>4</th>\n",
       "      <td>4</td>\n",
       "      <td>-0.096332</td>\n",
       "      <td>0.356604</td>\n",
       "    </tr>\n",
       "    <tr>\n",
       "      <th>...</th>\n",
       "      <td>...</td>\n",
       "      <td>...</td>\n",
       "      <td>...</td>\n",
       "    </tr>\n",
       "    <tr>\n",
       "      <th>295</th>\n",
       "      <td>295</td>\n",
       "      <td>-0.622417</td>\n",
       "      <td>-0.174662</td>\n",
       "    </tr>\n",
       "    <tr>\n",
       "      <th>296</th>\n",
       "      <td>296</td>\n",
       "      <td>-0.881803</td>\n",
       "      <td>-0.123522</td>\n",
       "    </tr>\n",
       "    <tr>\n",
       "      <th>297</th>\n",
       "      <td>297</td>\n",
       "      <td>-1.045070</td>\n",
       "      <td>-0.228918</td>\n",
       "    </tr>\n",
       "    <tr>\n",
       "      <th>298</th>\n",
       "      <td>298</td>\n",
       "      <td>-0.849455</td>\n",
       "      <td>-0.026324</td>\n",
       "    </tr>\n",
       "    <tr>\n",
       "      <th>299</th>\n",
       "      <td>299</td>\n",
       "      <td>-0.992399</td>\n",
       "      <td>-0.285935</td>\n",
       "    </tr>\n",
       "  </tbody>\n",
       "</table>\n",
       "<p>300 rows × 3 columns</p>\n",
       "</div>"
      ],
      "text/plain": [
       "     Epoch  Generator Loss  Discriminator Loss\n",
       "0        0        1.765080           -0.439242\n",
       "1        1        0.698990            0.237745\n",
       "2        2        0.905653            0.034457\n",
       "3        3        0.242046            0.237939\n",
       "4        4       -0.096332            0.356604\n",
       "..     ...             ...                 ...\n",
       "295    295       -0.622417           -0.174662\n",
       "296    296       -0.881803           -0.123522\n",
       "297    297       -1.045070           -0.228918\n",
       "298    298       -0.849455           -0.026324\n",
       "299    299       -0.992399           -0.285935\n",
       "\n",
       "[300 rows x 3 columns]"
      ]
     },
     "execution_count": 27,
     "metadata": {},
     "output_type": "execute_result"
    }
   ],
   "source": [
    "synthesizer.get_loss_values()"
   ]
  },
  {
   "cell_type": "markdown",
   "id": "56a60967",
   "metadata": {},
   "source": [
    "Optional visualization of the loss values:"
   ]
  },
  {
   "cell_type": "code",
   "execution_count": 28,
   "id": "a030235d",
   "metadata": {},
   "outputs": [
    {
     "data": {
      "text/html": [
       "<iframe\n",
       "    scrolling=\"no\"\n",
       "    width=\"100%\"\n",
       "    height=\"545px\"\n",
       "    src=\"iframe_figures/figure_28.html\"\n",
       "    frameborder=\"0\"\n",
       "    allowfullscreen\n",
       "></iframe>\n"
      ]
     },
     "metadata": {},
     "output_type": "display_data"
    }
   ],
   "source": [
    "\n",
    "fig = synthesizer.get_loss_values_plot()\n",
    "fig.show()"
   ]
  },
  {
   "cell_type": "markdown",
   "id": "64757e11",
   "metadata": {},
   "source": [
    "## 4. Generate synthetic data"
   ]
  },
  {
   "cell_type": "code",
   "execution_count": 29,
   "id": "3826c133",
   "metadata": {},
   "outputs": [],
   "source": [
    "synthetic_data = synthesizer.sample(\n",
    "    num_rows=5000\n",
    ")"
   ]
  },
  {
   "cell_type": "markdown",
   "id": "e0bf4a27",
   "metadata": {},
   "source": [
    "Compare real data with synthetic data:"
   ]
  },
  {
   "cell_type": "code",
   "execution_count": 30,
   "id": "d823f598",
   "metadata": {},
   "outputs": [
    {
     "data": {
      "text/html": [
       "<div>\n",
       "<style scoped>\n",
       "    .dataframe tbody tr th:only-of-type {\n",
       "        vertical-align: middle;\n",
       "    }\n",
       "\n",
       "    .dataframe tbody tr th {\n",
       "        vertical-align: top;\n",
       "    }\n",
       "\n",
       "    .dataframe thead th {\n",
       "        text-align: right;\n",
       "    }\n",
       "</style>\n",
       "<table border=\"1\" class=\"dataframe\">\n",
       "  <thead>\n",
       "    <tr style=\"text-align: right;\">\n",
       "      <th></th>\n",
       "      <th>id</th>\n",
       "      <th>relationship</th>\n",
       "      <th>sex</th>\n",
       "      <th>income</th>\n",
       "      <th>education-num</th>\n",
       "      <th>workclass</th>\n",
       "      <th>hours-per-week</th>\n",
       "      <th>fnlwgt</th>\n",
       "      <th>race</th>\n",
       "      <th>occupation</th>\n",
       "      <th>age</th>\n",
       "      <th>capital-gain</th>\n",
       "      <th>native-country</th>\n",
       "      <th>education</th>\n",
       "      <th>marital-status</th>\n",
       "      <th>capital-loss</th>\n",
       "      <th>dob</th>\n",
       "      <th>pob</th>\n",
       "      <th>address</th>\n",
       "    </tr>\n",
       "  </thead>\n",
       "  <tbody>\n",
       "    <tr>\n",
       "      <th>0</th>\n",
       "      <td>5451002</td>\n",
       "      <td>Husband</td>\n",
       "      <td>Male</td>\n",
       "      <td>&lt;=50K</td>\n",
       "      <td>10</td>\n",
       "      <td>Private</td>\n",
       "      <td>40</td>\n",
       "      <td>30400</td>\n",
       "      <td>White</td>\n",
       "      <td>Transport-moving</td>\n",
       "      <td>29</td>\n",
       "      <td>0</td>\n",
       "      <td>United-States</td>\n",
       "      <td>Some-college</td>\n",
       "      <td>Married-civ-spouse</td>\n",
       "      <td>0</td>\n",
       "      <td>1991-07-12</td>\n",
       "      <td>Washington, D.C.</td>\n",
       "      <td>37175 Hernandez Corners\\nWest Angela, MN 61525</td>\n",
       "    </tr>\n",
       "    <tr>\n",
       "      <th>1</th>\n",
       "      <td>6046429</td>\n",
       "      <td>Husband</td>\n",
       "      <td>Male</td>\n",
       "      <td>&lt;=50K</td>\n",
       "      <td>7</td>\n",
       "      <td>Private</td>\n",
       "      <td>93</td>\n",
       "      <td>380486</td>\n",
       "      <td>White</td>\n",
       "      <td>Other-service</td>\n",
       "      <td>34</td>\n",
       "      <td>0</td>\n",
       "      <td>United-States</td>\n",
       "      <td>Assoc-voc</td>\n",
       "      <td>Married-civ-spouse</td>\n",
       "      <td>1</td>\n",
       "      <td>1990-04-15</td>\n",
       "      <td>Washington, D.C.</td>\n",
       "      <td>71237 Jessica Parkways Apt. 168\\nMccallmouth, ...</td>\n",
       "    </tr>\n",
       "    <tr>\n",
       "      <th>2</th>\n",
       "      <td>11509909</td>\n",
       "      <td>Not-in-family</td>\n",
       "      <td>Male</td>\n",
       "      <td>&lt;=50K</td>\n",
       "      <td>13</td>\n",
       "      <td>Private</td>\n",
       "      <td>60</td>\n",
       "      <td>609822</td>\n",
       "      <td>White</td>\n",
       "      <td>Other-service</td>\n",
       "      <td>25</td>\n",
       "      <td>0</td>\n",
       "      <td>United-States</td>\n",
       "      <td>Bachelors</td>\n",
       "      <td>Never-married</td>\n",
       "      <td>1</td>\n",
       "      <td>1996-10-13</td>\n",
       "      <td>Washington, D.C.</td>\n",
       "      <td>926 Black Green Apt. 674\\nEast Jason, IL 33986</td>\n",
       "    </tr>\n",
       "    <tr>\n",
       "      <th>3</th>\n",
       "      <td>7602670</td>\n",
       "      <td>Not-in-family</td>\n",
       "      <td>Female</td>\n",
       "      <td>&gt;50K</td>\n",
       "      <td>9</td>\n",
       "      <td>Federal-gov</td>\n",
       "      <td>40</td>\n",
       "      <td>44972</td>\n",
       "      <td>Black</td>\n",
       "      <td>Prof-specialty</td>\n",
       "      <td>44</td>\n",
       "      <td>0</td>\n",
       "      <td>United-States</td>\n",
       "      <td>HS-grad</td>\n",
       "      <td>Divorced</td>\n",
       "      <td>0</td>\n",
       "      <td>1971-04-13</td>\n",
       "      <td>Washington, D.C.</td>\n",
       "      <td>4721 Michael Fork Suite 040\\nOliviaberg, KY 60506</td>\n",
       "    </tr>\n",
       "    <tr>\n",
       "      <th>4</th>\n",
       "      <td>5066721</td>\n",
       "      <td>Unmarried</td>\n",
       "      <td>Female</td>\n",
       "      <td>&lt;=50K</td>\n",
       "      <td>13</td>\n",
       "      <td>Private</td>\n",
       "      <td>24</td>\n",
       "      <td>191914</td>\n",
       "      <td>White</td>\n",
       "      <td>Sales</td>\n",
       "      <td>61</td>\n",
       "      <td>0</td>\n",
       "      <td>England</td>\n",
       "      <td>Bachelors</td>\n",
       "      <td>Widowed</td>\n",
       "      <td>0</td>\n",
       "      <td>1968-06-14</td>\n",
       "      <td>Ottawa</td>\n",
       "      <td>842 Harold Mews Apt. 603\\nNorth Sheri, MT 41998</td>\n",
       "    </tr>\n",
       "  </tbody>\n",
       "</table>\n",
       "</div>"
      ],
      "text/plain": [
       "         id    relationship      sex  income  education-num     workclass  \\\n",
       "0   5451002         Husband     Male   <=50K             10       Private   \n",
       "1   6046429         Husband     Male   <=50K              7       Private   \n",
       "2  11509909   Not-in-family     Male   <=50K             13       Private   \n",
       "3   7602670   Not-in-family   Female    >50K              9   Federal-gov   \n",
       "4   5066721       Unmarried   Female   <=50K             13       Private   \n",
       "\n",
       "   hours-per-week  fnlwgt    race         occupation  age  capital-gain  \\\n",
       "0              40   30400   White   Transport-moving   29             0   \n",
       "1              93  380486   White      Other-service   34             0   \n",
       "2              60  609822   White      Other-service   25             0   \n",
       "3              40   44972   Black     Prof-specialty   44             0   \n",
       "4              24  191914   White              Sales   61             0   \n",
       "\n",
       "   native-country      education       marital-status  capital-loss  \\\n",
       "0   United-States   Some-college   Married-civ-spouse             0   \n",
       "1   United-States      Assoc-voc   Married-civ-spouse             1   \n",
       "2   United-States      Bachelors        Never-married             1   \n",
       "3   United-States        HS-grad             Divorced             0   \n",
       "4         England      Bachelors              Widowed             0   \n",
       "\n",
       "          dob               pob  \\\n",
       "0  1991-07-12  Washington, D.C.   \n",
       "1  1990-04-15  Washington, D.C.   \n",
       "2  1996-10-13  Washington, D.C.   \n",
       "3  1971-04-13  Washington, D.C.   \n",
       "4  1968-06-14            Ottawa   \n",
       "\n",
       "                                             address  \n",
       "0     37175 Hernandez Corners\\nWest Angela, MN 61525  \n",
       "1  71237 Jessica Parkways Apt. 168\\nMccallmouth, ...  \n",
       "2     926 Black Green Apt. 674\\nEast Jason, IL 33986  \n",
       "3  4721 Michael Fork Suite 040\\nOliviaberg, KY 60506  \n",
       "4    842 Harold Mews Apt. 603\\nNorth Sheri, MT 41998  "
      ]
     },
     "execution_count": 30,
     "metadata": {},
     "output_type": "execute_result"
    }
   ],
   "source": [
    "real_data[5:10]\n",
    "synthetic_data.head()"
   ]
  },
  {
   "cell_type": "markdown",
   "id": "0f4e6c54",
   "metadata": {},
   "source": [
    "## 5. Evaluation of real vs. synthetic data\n",
    "\n",
    "### 5.1 Diagnostic"
   ]
  },
  {
   "cell_type": "code",
   "execution_count": 31,
   "id": "dc84f263",
   "metadata": {},
   "outputs": [
    {
     "name": "stdout",
     "output_type": "stream",
     "text": [
      "Generating report ...\n",
      "\n",
      "(1/2) Evaluating Data Validity: |██████████| 19/19 [00:00<00:00, 313.92it/s]|\n",
      "Data Validity Score: 100.0%\n",
      "\n",
      "(2/2) Evaluating Data Structure: |██████████| 1/1 [00:00<00:00, 465.05it/s]|\n",
      "Data Structure Score: 100.0%\n",
      "\n",
      "Overall Score (Average): 100.0%\n",
      "\n"
     ]
    }
   ],
   "source": [
    "diagnostic = run_diagnostic(\n",
    "    real_data=real_data,\n",
    "    synthetic_data=synthetic_data,\n",
    "    metadata=metadata\n",
    ")"
   ]
  },
  {
   "cell_type": "markdown",
   "id": "b2ef7291",
   "metadata": {},
   "source": [
    "### 5.2 Data quality"
   ]
  },
  {
   "cell_type": "code",
   "execution_count": 32,
   "id": "a8a124a5",
   "metadata": {},
   "outputs": [
    {
     "name": "stdout",
     "output_type": "stream",
     "text": [
      "Generating report ...\n",
      "\n",
      "(1/2) Evaluating Column Shapes: |██████████| 19/19 [00:00<00:00, 174.46it/s]|\n",
      "Column Shapes Score: 88.02%\n",
      "\n",
      "(2/2) Evaluating Column Pair Trends: |██████████| 171/171 [00:01<00:00, 144.47it/s]|\n",
      "Column Pair Trends Score: 82.65%\n",
      "\n",
      "Overall Score (Average): 85.34%\n",
      "\n"
     ]
    }
   ],
   "source": [
    "quality_report = evaluate_quality(\n",
    "    real_data=real_data,\n",
    "    synthetic_data=synthetic_data,\n",
    "    metadata=metadata\n",
    ")"
   ]
  },
  {
   "cell_type": "markdown",
   "id": "58224d1f",
   "metadata": {},
   "source": [
    "Overview of detailed values:"
   ]
  },
  {
   "cell_type": "code",
   "execution_count": 33,
   "id": "c50c0319",
   "metadata": {},
   "outputs": [
    {
     "data": {
      "text/html": [
       "<div>\n",
       "<style scoped>\n",
       "    .dataframe tbody tr th:only-of-type {\n",
       "        vertical-align: middle;\n",
       "    }\n",
       "\n",
       "    .dataframe tbody tr th {\n",
       "        vertical-align: top;\n",
       "    }\n",
       "\n",
       "    .dataframe thead th {\n",
       "        text-align: right;\n",
       "    }\n",
       "</style>\n",
       "<table border=\"1\" class=\"dataframe\">\n",
       "  <thead>\n",
       "    <tr style=\"text-align: right;\">\n",
       "      <th></th>\n",
       "      <th>Column</th>\n",
       "      <th>Metric</th>\n",
       "      <th>Score</th>\n",
       "      <th>Error</th>\n",
       "    </tr>\n",
       "  </thead>\n",
       "  <tbody>\n",
       "    <tr>\n",
       "      <th>0</th>\n",
       "      <td>relationship</td>\n",
       "      <td>TVComplement</td>\n",
       "      <td>0.897716</td>\n",
       "      <td>None</td>\n",
       "    </tr>\n",
       "    <tr>\n",
       "      <th>1</th>\n",
       "      <td>sex</td>\n",
       "      <td>TVComplement</td>\n",
       "      <td>0.991595</td>\n",
       "      <td>None</td>\n",
       "    </tr>\n",
       "    <tr>\n",
       "      <th>2</th>\n",
       "      <td>income</td>\n",
       "      <td>TVComplement</td>\n",
       "      <td>0.906610</td>\n",
       "      <td>None</td>\n",
       "    </tr>\n",
       "    <tr>\n",
       "      <th>3</th>\n",
       "      <td>education-num</td>\n",
       "      <td>KSComplement</td>\n",
       "      <td>0.924318</td>\n",
       "      <td>None</td>\n",
       "    </tr>\n",
       "    <tr>\n",
       "      <th>4</th>\n",
       "      <td>workclass</td>\n",
       "      <td>TVComplement</td>\n",
       "      <td>0.934632</td>\n",
       "      <td>None</td>\n",
       "    </tr>\n",
       "    <tr>\n",
       "      <th>5</th>\n",
       "      <td>hours-per-week</td>\n",
       "      <td>KSComplement</td>\n",
       "      <td>0.948738</td>\n",
       "      <td>None</td>\n",
       "    </tr>\n",
       "    <tr>\n",
       "      <th>6</th>\n",
       "      <td>fnlwgt</td>\n",
       "      <td>KSComplement</td>\n",
       "      <td>0.945970</td>\n",
       "      <td>None</td>\n",
       "    </tr>\n",
       "    <tr>\n",
       "      <th>7</th>\n",
       "      <td>race</td>\n",
       "      <td>TVComplement</td>\n",
       "      <td>0.925783</td>\n",
       "      <td>None</td>\n",
       "    </tr>\n",
       "    <tr>\n",
       "      <th>8</th>\n",
       "      <td>occupation</td>\n",
       "      <td>TVComplement</td>\n",
       "      <td>0.845647</td>\n",
       "      <td>None</td>\n",
       "    </tr>\n",
       "    <tr>\n",
       "      <th>9</th>\n",
       "      <td>age</td>\n",
       "      <td>KSComplement</td>\n",
       "      <td>0.931438</td>\n",
       "      <td>None</td>\n",
       "    </tr>\n",
       "    <tr>\n",
       "      <th>10</th>\n",
       "      <td>capital-gain</td>\n",
       "      <td>KSComplement</td>\n",
       "      <td>0.544090</td>\n",
       "      <td>None</td>\n",
       "    </tr>\n",
       "    <tr>\n",
       "      <th>11</th>\n",
       "      <td>native-country</td>\n",
       "      <td>TVComplement</td>\n",
       "      <td>0.807245</td>\n",
       "      <td>None</td>\n",
       "    </tr>\n",
       "    <tr>\n",
       "      <th>12</th>\n",
       "      <td>education</td>\n",
       "      <td>TVComplement</td>\n",
       "      <td>0.905149</td>\n",
       "      <td>None</td>\n",
       "    </tr>\n",
       "    <tr>\n",
       "      <th>13</th>\n",
       "      <td>marital-status</td>\n",
       "      <td>TVComplement</td>\n",
       "      <td>0.917771</td>\n",
       "      <td>None</td>\n",
       "    </tr>\n",
       "    <tr>\n",
       "      <th>14</th>\n",
       "      <td>capital-loss</td>\n",
       "      <td>KSComplement</td>\n",
       "      <td>0.833851</td>\n",
       "      <td>None</td>\n",
       "    </tr>\n",
       "    <tr>\n",
       "      <th>15</th>\n",
       "      <td>dob</td>\n",
       "      <td>KSComplement</td>\n",
       "      <td>NaN</td>\n",
       "      <td>TypeError: Expected numeric dtype, got object ...</td>\n",
       "    </tr>\n",
       "    <tr>\n",
       "      <th>16</th>\n",
       "      <td>pob</td>\n",
       "      <td>TVComplement</td>\n",
       "      <td>0.822453</td>\n",
       "      <td>None</td>\n",
       "    </tr>\n",
       "  </tbody>\n",
       "</table>\n",
       "</div>"
      ],
      "text/plain": [
       "            Column        Metric     Score  \\\n",
       "0     relationship  TVComplement  0.897716   \n",
       "1              sex  TVComplement  0.991595   \n",
       "2           income  TVComplement  0.906610   \n",
       "3    education-num  KSComplement  0.924318   \n",
       "4        workclass  TVComplement  0.934632   \n",
       "5   hours-per-week  KSComplement  0.948738   \n",
       "6           fnlwgt  KSComplement  0.945970   \n",
       "7             race  TVComplement  0.925783   \n",
       "8       occupation  TVComplement  0.845647   \n",
       "9              age  KSComplement  0.931438   \n",
       "10    capital-gain  KSComplement  0.544090   \n",
       "11  native-country  TVComplement  0.807245   \n",
       "12       education  TVComplement  0.905149   \n",
       "13  marital-status  TVComplement  0.917771   \n",
       "14    capital-loss  KSComplement  0.833851   \n",
       "15             dob  KSComplement       NaN   \n",
       "16             pob  TVComplement  0.822453   \n",
       "\n",
       "                                                Error  \n",
       "0                                                None  \n",
       "1                                                None  \n",
       "2                                                None  \n",
       "3                                                None  \n",
       "4                                                None  \n",
       "5                                                None  \n",
       "6                                                None  \n",
       "7                                                None  \n",
       "8                                                None  \n",
       "9                                                None  \n",
       "10                                               None  \n",
       "11                                               None  \n",
       "12                                               None  \n",
       "13                                               None  \n",
       "14                                               None  \n",
       "15  TypeError: Expected numeric dtype, got object ...  \n",
       "16                                               None  "
      ]
     },
     "execution_count": 33,
     "metadata": {},
     "output_type": "execute_result"
    }
   ],
   "source": [
    "quality_report.get_details('Column Shapes')"
   ]
  },
  {
   "cell_type": "markdown",
   "id": "b4029a8d",
   "metadata": {},
   "source": [
    "### 5.3 Anonymization\n",
    "\n",
    "The original dataset included some sensitive columns such as residential address or place of birth. In the synthetic data, these columns are fully anonymized – they contain entirely fake values that match the format of the original data."
   ]
  },
  {
   "cell_type": "code",
   "execution_count": 34,
   "id": "4fb77e94",
   "metadata": {},
   "outputs": [
    {
     "data": {
      "text/html": [
       "<div>\n",
       "<style scoped>\n",
       "    .dataframe tbody tr th:only-of-type {\n",
       "        vertical-align: middle;\n",
       "    }\n",
       "\n",
       "    .dataframe tbody tr th {\n",
       "        vertical-align: top;\n",
       "    }\n",
       "\n",
       "    .dataframe thead th {\n",
       "        text-align: right;\n",
       "    }\n",
       "</style>\n",
       "<table border=\"1\" class=\"dataframe\">\n",
       "  <thead>\n",
       "    <tr style=\"text-align: right;\">\n",
       "      <th></th>\n",
       "      <th>dob</th>\n",
       "      <th>pob</th>\n",
       "      <th>address</th>\n",
       "    </tr>\n",
       "  </thead>\n",
       "  <tbody>\n",
       "    <tr>\n",
       "      <th>0</th>\n",
       "      <td>1991-07-12</td>\n",
       "      <td>Washington, D.C.</td>\n",
       "      <td>37175 Hernandez Corners\\nWest Angela, MN 61525</td>\n",
       "    </tr>\n",
       "    <tr>\n",
       "      <th>1</th>\n",
       "      <td>1990-04-15</td>\n",
       "      <td>Washington, D.C.</td>\n",
       "      <td>71237 Jessica Parkways Apt. 168\\nMccallmouth, ...</td>\n",
       "    </tr>\n",
       "    <tr>\n",
       "      <th>2</th>\n",
       "      <td>1996-10-13</td>\n",
       "      <td>Washington, D.C.</td>\n",
       "      <td>926 Black Green Apt. 674\\nEast Jason, IL 33986</td>\n",
       "    </tr>\n",
       "    <tr>\n",
       "      <th>3</th>\n",
       "      <td>1971-04-13</td>\n",
       "      <td>Washington, D.C.</td>\n",
       "      <td>4721 Michael Fork Suite 040\\nOliviaberg, KY 60506</td>\n",
       "    </tr>\n",
       "    <tr>\n",
       "      <th>4</th>\n",
       "      <td>1968-06-14</td>\n",
       "      <td>Ottawa</td>\n",
       "      <td>842 Harold Mews Apt. 603\\nNorth Sheri, MT 41998</td>\n",
       "    </tr>\n",
       "  </tbody>\n",
       "</table>\n",
       "</div>"
      ],
      "text/plain": [
       "          dob               pob  \\\n",
       "0  1991-07-12  Washington, D.C.   \n",
       "1  1990-04-15  Washington, D.C.   \n",
       "2  1996-10-13  Washington, D.C.   \n",
       "3  1971-04-13  Washington, D.C.   \n",
       "4  1968-06-14            Ottawa   \n",
       "\n",
       "                                             address  \n",
       "0     37175 Hernandez Corners\\nWest Angela, MN 61525  \n",
       "1  71237 Jessica Parkways Apt. 168\\nMccallmouth, ...  \n",
       "2     926 Black Green Apt. 674\\nEast Jason, IL 33986  \n",
       "3  4721 Michael Fork Suite 040\\nOliviaberg, KY 60506  \n",
       "4    842 Harold Mews Apt. 603\\nNorth Sheri, MT 41998  "
      ]
     },
     "execution_count": 34,
     "metadata": {},
     "output_type": "execute_result"
    }
   ],
   "source": [
    "sensitive_column_names = ['dob', 'pob', 'address']\n",
    "real_data[sensitive_column_names].head()\n",
    "synthetic_data[sensitive_column_names].head()"
   ]
  },
  {
   "cell_type": "markdown",
   "id": "26df538d",
   "metadata": {},
   "source": [
    "### 5.4 Visualization of the data\n",
    "\n",
    "Age distribution in real and synthetic data:"
   ]
  },
  {
   "cell_type": "code",
   "execution_count": 35,
   "id": "ce89f569",
   "metadata": {},
   "outputs": [
    {
     "data": {
      "text/html": [
       "<iframe\n",
       "    scrolling=\"no\"\n",
       "    width=\"100%\"\n",
       "    height=\"545px\"\n",
       "    src=\"iframe_figures/figure_35.html\"\n",
       "    frameborder=\"0\"\n",
       "    allowfullscreen\n",
       "></iframe>\n"
      ]
     },
     "metadata": {},
     "output_type": "display_data"
    }
   ],
   "source": [
    "fig = get_column_plot(\n",
    "    real_data=real_data,\n",
    "    synthetic_data=synthetic_data,\n",
    "    column_name='age',\n",
    "    metadata=metadata\n",
    ")\n",
    "fig.show()"
   ]
  },
  {
   "cell_type": "markdown",
   "id": "d2971de1",
   "metadata": {},
   "source": [
    "Distribution of years of education in real and synthetic data:"
   ]
  },
  {
   "cell_type": "code",
   "execution_count": 36,
   "id": "3b4b4c9a",
   "metadata": {},
   "outputs": [
    {
     "data": {
      "text/html": [
       "<iframe\n",
       "    scrolling=\"no\"\n",
       "    width=\"100%\"\n",
       "    height=\"545px\"\n",
       "    src=\"iframe_figures/figure_36.html\"\n",
       "    frameborder=\"0\"\n",
       "    allowfullscreen\n",
       "></iframe>\n"
      ]
     },
     "metadata": {},
     "output_type": "display_data"
    }
   ],
   "source": [
    "fig = get_column_plot(\n",
    "    real_data=real_data,\n",
    "    synthetic_data=synthetic_data,\n",
    "    column_name='education-num',\n",
    "    metadata=metadata\n",
    ")\n",
    "fig.show()"
   ]
  },
  {
   "cell_type": "markdown",
   "id": "080f968e",
   "metadata": {},
   "source": [
    "Distribution of marital status in real and synthetic data:"
   ]
  },
  {
   "cell_type": "code",
   "execution_count": 37,
   "id": "07953f2d",
   "metadata": {},
   "outputs": [
    {
     "data": {
      "text/html": [
       "<iframe\n",
       "    scrolling=\"no\"\n",
       "    width=\"100%\"\n",
       "    height=\"545px\"\n",
       "    src=\"iframe_figures/figure_37.html\"\n",
       "    frameborder=\"0\"\n",
       "    allowfullscreen\n",
       "></iframe>\n"
      ]
     },
     "metadata": {},
     "output_type": "display_data"
    }
   ],
   "source": [
    "fig = get_column_plot(\n",
    "    real_data=real_data,\n",
    "    synthetic_data=synthetic_data,\n",
    "    column_name='marital-status',\n",
    "    metadata=metadata\n",
    ")\n",
    "fig.show()"
   ]
  },
  {
   "cell_type": "markdown",
   "id": "2495f547",
   "metadata": {},
   "source": [
    "Correlation between type of employment and years of education:"
   ]
  },
  {
   "cell_type": "code",
   "execution_count": 38,
   "id": "79a1fd3c",
   "metadata": {},
   "outputs": [
    {
     "data": {
      "text/html": [
       "<iframe\n",
       "    scrolling=\"no\"\n",
       "    width=\"100%\"\n",
       "    height=\"545px\"\n",
       "    src=\"iframe_figures/figure_38.html\"\n",
       "    frameborder=\"0\"\n",
       "    allowfullscreen\n",
       "></iframe>\n"
      ]
     },
     "metadata": {},
     "output_type": "display_data"
    }
   ],
   "source": [
    "fig = get_column_pair_plot(\n",
    "    real_data=real_data,\n",
    "    synthetic_data=synthetic_data,\n",
    "    column_names=['education-num', 'occupation'],\n",
    "    metadata=metadata\n",
    ")\n",
    "fig.show()"
   ]
  },
  {
   "cell_type": "markdown",
   "id": "ec6d12b5",
   "metadata": {},
   "source": [
    "Correlation between ethnicity and years of education:"
   ]
  },
  {
   "cell_type": "code",
   "execution_count": 39,
   "id": "d5902b61",
   "metadata": {},
   "outputs": [
    {
     "data": {
      "text/html": [
       "<iframe\n",
       "    scrolling=\"no\"\n",
       "    width=\"100%\"\n",
       "    height=\"545px\"\n",
       "    src=\"iframe_figures/figure_39.html\"\n",
       "    frameborder=\"0\"\n",
       "    allowfullscreen\n",
       "></iframe>\n"
      ]
     },
     "metadata": {},
     "output_type": "display_data"
    }
   ],
   "source": [
    "fig = get_column_pair_plot(\n",
    "    real_data=real_data,\n",
    "    synthetic_data=synthetic_data,\n",
    "    column_names=['education-num', 'race'],\n",
    "    metadata=metadata\n",
    ")\n",
    "fig.show()"
   ]
  },
  {
   "cell_type": "markdown",
   "id": "a8e02325",
   "metadata": {},
   "source": [
    "Correlation between income and years of education:"
   ]
  },
  {
   "cell_type": "code",
   "execution_count": 40,
   "id": "07144259",
   "metadata": {},
   "outputs": [
    {
     "data": {
      "text/html": [
       "<iframe\n",
       "    scrolling=\"no\"\n",
       "    width=\"100%\"\n",
       "    height=\"545px\"\n",
       "    src=\"iframe_figures/figure_40.html\"\n",
       "    frameborder=\"0\"\n",
       "    allowfullscreen\n",
       "></iframe>\n"
      ]
     },
     "metadata": {},
     "output_type": "display_data"
    }
   ],
   "source": [
    "fig = get_column_pair_plot(\n",
    "    real_data=real_data,\n",
    "    synthetic_data=synthetic_data,\n",
    "    column_names=['education-num', 'income'],\n",
    "    metadata=metadata\n",
    ")\n",
    "fig.show()"
   ]
  }
 ],
 "metadata": {
  "kernelspec": {
   "display_name": "Python 3",
   "language": "python",
   "name": "python3"
  },
  "language_info": {
   "codemirror_mode": {
    "name": "ipython",
    "version": 3
   },
   "file_extension": ".py",
   "mimetype": "text/x-python",
   "name": "python",
   "nbconvert_exporter": "python",
   "pygments_lexer": "ipython3",
   "version": "3.13.3"
  }
 },
 "nbformat": 4,
 "nbformat_minor": 5
}

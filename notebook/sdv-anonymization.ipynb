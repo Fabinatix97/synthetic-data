{
 "cells": [
  {
   "cell_type": "markdown",
   "id": "d9961a5e",
   "metadata": {},
   "source": [
    "## 0. Installation\n",
    "\n",
    "Install the SDV community"
   ]
  },
  {
   "cell_type": "code",
   "execution_count": 1,
   "id": "bce3f8b2",
   "metadata": {},
   "outputs": [
    {
     "name": "stdout",
     "output_type": "stream",
     "text": [
      "Defaulting to user installation because normal site-packages is not writeable\n",
      "Requirement already satisfied: sdv in /home/fabinatix/.local/lib/python3.13/site-packages (1.23.0)\n",
      "Requirement already satisfied: boto3<2.0.0,>=1.28 in /usr/lib/python3.13/site-packages (from sdv) (1.38.36)\n",
      "Requirement already satisfied: botocore<2.0.0,>=1.31 in /usr/lib/python3.13/site-packages (from sdv) (1.38.36)\n",
      "Requirement already satisfied: cloudpickle>=2.1.0 in /home/fabinatix/.local/lib/python3.13/site-packages (from sdv) (3.1.1)\n",
      "Requirement already satisfied: graphviz>=0.13.2 in /home/fabinatix/.local/lib/python3.13/site-packages (from sdv) (0.21)\n",
      "Requirement already satisfied: numpy>=2.1.0 in /home/fabinatix/.local/lib/python3.13/site-packages (from sdv) (2.3.0)\n",
      "Requirement already satisfied: pandas>=2.2.3 in /home/fabinatix/.local/lib/python3.13/site-packages (from sdv) (2.3.0)\n",
      "Requirement already satisfied: tqdm>=4.29 in /home/fabinatix/.local/lib/python3.13/site-packages (from sdv) (4.67.1)\n",
      "Requirement already satisfied: copulas>=0.12.1 in /home/fabinatix/.local/lib/python3.13/site-packages (from sdv) (0.12.3)\n",
      "Requirement already satisfied: ctgan>=0.11.0 in /home/fabinatix/.local/lib/python3.13/site-packages (from sdv) (0.11.0)\n",
      "Requirement already satisfied: deepecho>=0.7.0 in /home/fabinatix/.local/lib/python3.13/site-packages (from sdv) (0.7.0)\n",
      "Requirement already satisfied: rdt>=1.17.0 in /home/fabinatix/.local/lib/python3.13/site-packages (from sdv) (1.17.0)\n",
      "Requirement already satisfied: sdmetrics>=0.21.0 in /home/fabinatix/.local/lib/python3.13/site-packages (from sdv) (0.21.0)\n",
      "Requirement already satisfied: platformdirs>=4.0 in /home/fabinatix/.local/lib/python3.13/site-packages (from sdv) (4.3.8)\n",
      "Requirement already satisfied: pyyaml>=6.0.1 in /usr/lib64/python3.13/site-packages (from sdv) (6.0.2)\n",
      "Requirement already satisfied: jmespath<2.0.0,>=0.7.1 in /usr/lib/python3.13/site-packages (from boto3<2.0.0,>=1.28->sdv) (1.0.1)\n",
      "Requirement already satisfied: s3transfer<0.14.0,>=0.13.0 in /usr/lib/python3.13/site-packages (from boto3<2.0.0,>=1.28->sdv) (0.13.0)\n",
      "Requirement already satisfied: python-dateutil<3.0.0,>=2.1 in /home/fabinatix/.local/lib/python3.13/site-packages (from botocore<2.0.0,>=1.31->sdv) (2.9.0.post0)\n",
      "Requirement already satisfied: urllib3!=2.2.0,<3,>=1.25.4 in /usr/lib/python3.13/site-packages (from botocore<2.0.0,>=1.31->sdv) (2.3.0)\n",
      "Requirement already satisfied: plotly>=5.12.0 in /home/fabinatix/.local/lib/python3.13/site-packages (from copulas>=0.12.1->sdv) (6.1.2)\n",
      "Requirement already satisfied: scipy>=1.14.1 in /home/fabinatix/.local/lib/python3.13/site-packages (from copulas>=0.12.1->sdv) (1.15.3)\n",
      "Requirement already satisfied: torch>=2.6.0 in /home/fabinatix/.local/lib/python3.13/site-packages (from ctgan>=0.11.0->sdv) (2.7.1)\n",
      "Requirement already satisfied: pytz>=2020.1 in /home/fabinatix/.local/lib/python3.13/site-packages (from pandas>=2.2.3->sdv) (2025.2)\n",
      "Requirement already satisfied: tzdata>=2022.7 in /home/fabinatix/.local/lib/python3.13/site-packages (from pandas>=2.2.3->sdv) (2025.2)\n",
      "Requirement already satisfied: scikit-learn>=1.5.2 in /home/fabinatix/.local/lib/python3.13/site-packages (from rdt>=1.17.0->sdv) (1.7.0)\n",
      "Requirement already satisfied: Faker>=17 in /home/fabinatix/.local/lib/python3.13/site-packages (from rdt>=1.17.0->sdv) (37.4.0)\n",
      "Requirement already satisfied: narwhals>=1.15.1 in /home/fabinatix/.local/lib/python3.13/site-packages (from plotly>=5.12.0->copulas>=0.12.1->sdv) (1.43.1)\n",
      "Requirement already satisfied: packaging in /usr/lib/python3.13/site-packages (from plotly>=5.12.0->copulas>=0.12.1->sdv) (24.2)\n",
      "Requirement already satisfied: six>=1.5 in /usr/lib/python3.13/site-packages (from python-dateutil<3.0.0,>=2.1->botocore<2.0.0,>=1.31->sdv) (1.17.0)\n",
      "Requirement already satisfied: joblib>=1.2.0 in /home/fabinatix/.local/lib/python3.13/site-packages (from scikit-learn>=1.5.2->rdt>=1.17.0->sdv) (1.5.1)\n",
      "Requirement already satisfied: threadpoolctl>=3.1.0 in /home/fabinatix/.local/lib/python3.13/site-packages (from scikit-learn>=1.5.2->rdt>=1.17.0->sdv) (3.6.0)\n",
      "Requirement already satisfied: filelock in /home/fabinatix/.local/lib/python3.13/site-packages (from torch>=2.6.0->ctgan>=0.11.0->sdv) (3.18.0)\n",
      "Requirement already satisfied: typing-extensions>=4.10.0 in /usr/lib/python3.13/site-packages (from torch>=2.6.0->ctgan>=0.11.0->sdv) (4.12.2)\n",
      "Requirement already satisfied: setuptools in /usr/lib/python3.13/site-packages (from torch>=2.6.0->ctgan>=0.11.0->sdv) (74.1.3)\n",
      "Requirement already satisfied: sympy>=1.13.3 in /home/fabinatix/.local/lib/python3.13/site-packages (from torch>=2.6.0->ctgan>=0.11.0->sdv) (1.14.0)\n",
      "Requirement already satisfied: networkx in /home/fabinatix/.local/lib/python3.13/site-packages (from torch>=2.6.0->ctgan>=0.11.0->sdv) (3.5)\n",
      "Requirement already satisfied: jinja2 in /home/fabinatix/.local/lib/python3.13/site-packages (from torch>=2.6.0->ctgan>=0.11.0->sdv) (3.1.6)\n",
      "Requirement already satisfied: fsspec in /home/fabinatix/.local/lib/python3.13/site-packages (from torch>=2.6.0->ctgan>=0.11.0->sdv) (2025.5.1)\n",
      "Requirement already satisfied: nvidia-cuda-nvrtc-cu12==12.6.77 in /home/fabinatix/.local/lib/python3.13/site-packages (from torch>=2.6.0->ctgan>=0.11.0->sdv) (12.6.77)\n",
      "Requirement already satisfied: nvidia-cuda-runtime-cu12==12.6.77 in /home/fabinatix/.local/lib/python3.13/site-packages (from torch>=2.6.0->ctgan>=0.11.0->sdv) (12.6.77)\n",
      "Requirement already satisfied: nvidia-cuda-cupti-cu12==12.6.80 in /home/fabinatix/.local/lib/python3.13/site-packages (from torch>=2.6.0->ctgan>=0.11.0->sdv) (12.6.80)\n",
      "Requirement already satisfied: nvidia-cudnn-cu12==9.5.1.17 in /home/fabinatix/.local/lib/python3.13/site-packages (from torch>=2.6.0->ctgan>=0.11.0->sdv) (9.5.1.17)\n",
      "Requirement already satisfied: nvidia-cublas-cu12==12.6.4.1 in /home/fabinatix/.local/lib/python3.13/site-packages (from torch>=2.6.0->ctgan>=0.11.0->sdv) (12.6.4.1)\n",
      "Requirement already satisfied: nvidia-cufft-cu12==11.3.0.4 in /home/fabinatix/.local/lib/python3.13/site-packages (from torch>=2.6.0->ctgan>=0.11.0->sdv) (11.3.0.4)\n",
      "Requirement already satisfied: nvidia-curand-cu12==10.3.7.77 in /home/fabinatix/.local/lib/python3.13/site-packages (from torch>=2.6.0->ctgan>=0.11.0->sdv) (10.3.7.77)\n",
      "Requirement already satisfied: nvidia-cusolver-cu12==11.7.1.2 in /home/fabinatix/.local/lib/python3.13/site-packages (from torch>=2.6.0->ctgan>=0.11.0->sdv) (11.7.1.2)\n",
      "Requirement already satisfied: nvidia-cusparse-cu12==12.5.4.2 in /home/fabinatix/.local/lib/python3.13/site-packages (from torch>=2.6.0->ctgan>=0.11.0->sdv) (12.5.4.2)\n",
      "Requirement already satisfied: nvidia-cusparselt-cu12==0.6.3 in /home/fabinatix/.local/lib/python3.13/site-packages (from torch>=2.6.0->ctgan>=0.11.0->sdv) (0.6.3)\n",
      "Requirement already satisfied: nvidia-nccl-cu12==2.26.2 in /home/fabinatix/.local/lib/python3.13/site-packages (from torch>=2.6.0->ctgan>=0.11.0->sdv) (2.26.2)\n",
      "Requirement already satisfied: nvidia-nvtx-cu12==12.6.77 in /home/fabinatix/.local/lib/python3.13/site-packages (from torch>=2.6.0->ctgan>=0.11.0->sdv) (12.6.77)\n",
      "Requirement already satisfied: nvidia-nvjitlink-cu12==12.6.85 in /home/fabinatix/.local/lib/python3.13/site-packages (from torch>=2.6.0->ctgan>=0.11.0->sdv) (12.6.85)\n",
      "Requirement already satisfied: nvidia-cufile-cu12==1.11.1.6 in /home/fabinatix/.local/lib/python3.13/site-packages (from torch>=2.6.0->ctgan>=0.11.0->sdv) (1.11.1.6)\n",
      "Requirement already satisfied: triton==3.3.1 in /home/fabinatix/.local/lib/python3.13/site-packages (from torch>=2.6.0->ctgan>=0.11.0->sdv) (3.3.1)\n",
      "Requirement already satisfied: mpmath<1.4,>=1.1.0 in /home/fabinatix/.local/lib/python3.13/site-packages (from sympy>=1.13.3->torch>=2.6.0->ctgan>=0.11.0->sdv) (1.3.0)\n",
      "Requirement already satisfied: MarkupSafe>=2.0 in /usr/lib64/python3.13/site-packages (from jinja2->torch>=2.6.0->ctgan>=0.11.0->sdv) (3.0.2)\n",
      "Note: you may need to restart the kernel to use updated packages.\n"
     ]
    }
   ],
   "source": [
    "%pip install sdv"
   ]
  },
  {
   "cell_type": "markdown",
   "id": "7215d51f",
   "metadata": {},
   "source": [
    "## 1. Loading the libraries"
   ]
  },
  {
   "cell_type": "code",
   "execution_count": 3,
   "id": "5f711dd2",
   "metadata": {},
   "outputs": [],
   "source": [
    "from sdv.datasets.demo import download_demo\n",
    "from sdv.single_table import CTGANSynthesizer\n",
    "from sdv.evaluation.single_table import run_diagnostic, evaluate_quality, get_column_plot, get_column_pair_plot\n",
    "import time"
   ]
  },
  {
   "cell_type": "markdown",
   "id": "a30a4558",
   "metadata": {},
   "source": [
    "## 2. Loading the data"
   ]
  },
  {
   "cell_type": "code",
   "execution_count": 4,
   "id": "83f72012",
   "metadata": {},
   "outputs": [
    {
     "data": {
      "text/html": [
       "<div>\n",
       "<style scoped>\n",
       "    .dataframe tbody tr th:only-of-type {\n",
       "        vertical-align: middle;\n",
       "    }\n",
       "\n",
       "    .dataframe tbody tr th {\n",
       "        vertical-align: top;\n",
       "    }\n",
       "\n",
       "    .dataframe thead th {\n",
       "        text-align: right;\n",
       "    }\n",
       "</style>\n",
       "<table border=\"1\" class=\"dataframe\">\n",
       "  <thead>\n",
       "    <tr style=\"text-align: right;\">\n",
       "      <th></th>\n",
       "      <th>id</th>\n",
       "      <th>age</th>\n",
       "      <th>workclass</th>\n",
       "      <th>fnlwgt</th>\n",
       "      <th>education</th>\n",
       "      <th>education-num</th>\n",
       "      <th>marital-status</th>\n",
       "      <th>occupation</th>\n",
       "      <th>relationship</th>\n",
       "      <th>race</th>\n",
       "      <th>sex</th>\n",
       "      <th>capital-gain</th>\n",
       "      <th>capital-loss</th>\n",
       "      <th>hours-per-week</th>\n",
       "      <th>native-country</th>\n",
       "      <th>income</th>\n",
       "      <th>dob</th>\n",
       "      <th>address</th>\n",
       "      <th>pob</th>\n",
       "    </tr>\n",
       "  </thead>\n",
       "  <tbody>\n",
       "    <tr>\n",
       "      <th>0</th>\n",
       "      <td>1</td>\n",
       "      <td>39</td>\n",
       "      <td>State-gov</td>\n",
       "      <td>77516</td>\n",
       "      <td>Bachelors</td>\n",
       "      <td>13</td>\n",
       "      <td>Never-married</td>\n",
       "      <td>Adm-clerical</td>\n",
       "      <td>Not-in-family</td>\n",
       "      <td>White</td>\n",
       "      <td>Male</td>\n",
       "      <td>2174</td>\n",
       "      <td>0</td>\n",
       "      <td>40</td>\n",
       "      <td>United-States</td>\n",
       "      <td>&lt;=50K</td>\n",
       "      <td>1980-11-07</td>\n",
       "      <td>058 Wilson Inlet Apt. 470\\nLake Miguel, FL 06513</td>\n",
       "      <td>Washington, D.C.</td>\n",
       "    </tr>\n",
       "    <tr>\n",
       "      <th>1</th>\n",
       "      <td>2</td>\n",
       "      <td>50</td>\n",
       "      <td>Self-emp-not-inc</td>\n",
       "      <td>83311</td>\n",
       "      <td>Bachelors</td>\n",
       "      <td>13</td>\n",
       "      <td>Married-civ-spouse</td>\n",
       "      <td>Exec-managerial</td>\n",
       "      <td>Husband</td>\n",
       "      <td>White</td>\n",
       "      <td>Male</td>\n",
       "      <td>0</td>\n",
       "      <td>0</td>\n",
       "      <td>13</td>\n",
       "      <td>United-States</td>\n",
       "      <td>&lt;=50K</td>\n",
       "      <td>1969-08-20</td>\n",
       "      <td>9915 Andrew Road\\nEricashire, NC 38090</td>\n",
       "      <td>Washington, D.C.</td>\n",
       "    </tr>\n",
       "    <tr>\n",
       "      <th>2</th>\n",
       "      <td>3</td>\n",
       "      <td>38</td>\n",
       "      <td>Private</td>\n",
       "      <td>215646</td>\n",
       "      <td>HS-grad</td>\n",
       "      <td>9</td>\n",
       "      <td>Divorced</td>\n",
       "      <td>Handlers-cleaners</td>\n",
       "      <td>Not-in-family</td>\n",
       "      <td>White</td>\n",
       "      <td>Male</td>\n",
       "      <td>0</td>\n",
       "      <td>0</td>\n",
       "      <td>40</td>\n",
       "      <td>United-States</td>\n",
       "      <td>&lt;=50K</td>\n",
       "      <td>1982-06-03</td>\n",
       "      <td>4656 Tammy Terrace\\nEast Tonyahaven, NE 13680</td>\n",
       "      <td>Washington, D.C.</td>\n",
       "    </tr>\n",
       "    <tr>\n",
       "      <th>3</th>\n",
       "      <td>4</td>\n",
       "      <td>53</td>\n",
       "      <td>Private</td>\n",
       "      <td>234721</td>\n",
       "      <td>11th</td>\n",
       "      <td>7</td>\n",
       "      <td>Married-civ-spouse</td>\n",
       "      <td>Handlers-cleaners</td>\n",
       "      <td>Husband</td>\n",
       "      <td>Black</td>\n",
       "      <td>Male</td>\n",
       "      <td>0</td>\n",
       "      <td>0</td>\n",
       "      <td>40</td>\n",
       "      <td>United-States</td>\n",
       "      <td>&lt;=50K</td>\n",
       "      <td>1967-06-23</td>\n",
       "      <td>503 Danielle Dam\\nSouth Melissashire, AR 33167</td>\n",
       "      <td>Washington, D.C.</td>\n",
       "    </tr>\n",
       "    <tr>\n",
       "      <th>4</th>\n",
       "      <td>5</td>\n",
       "      <td>28</td>\n",
       "      <td>Private</td>\n",
       "      <td>338409</td>\n",
       "      <td>Bachelors</td>\n",
       "      <td>13</td>\n",
       "      <td>Married-civ-spouse</td>\n",
       "      <td>Prof-specialty</td>\n",
       "      <td>Wife</td>\n",
       "      <td>Black</td>\n",
       "      <td>Female</td>\n",
       "      <td>0</td>\n",
       "      <td>0</td>\n",
       "      <td>40</td>\n",
       "      <td>Cuba</td>\n",
       "      <td>&lt;=50K</td>\n",
       "      <td>1992-06-16</td>\n",
       "      <td>584 Anderson Forks Suite 203\\nGilesside, NM 78530</td>\n",
       "      <td>Habana</td>\n",
       "    </tr>\n",
       "  </tbody>\n",
       "</table>\n",
       "</div>"
      ],
      "text/plain": [
       "   id  age          workclass  fnlwgt   education  education-num  \\\n",
       "0   1   39          State-gov   77516   Bachelors             13   \n",
       "1   2   50   Self-emp-not-inc   83311   Bachelors             13   \n",
       "2   3   38            Private  215646     HS-grad              9   \n",
       "3   4   53            Private  234721        11th              7   \n",
       "4   5   28            Private  338409   Bachelors             13   \n",
       "\n",
       "        marital-status          occupation    relationship    race      sex  \\\n",
       "0        Never-married        Adm-clerical   Not-in-family   White     Male   \n",
       "1   Married-civ-spouse     Exec-managerial         Husband   White     Male   \n",
       "2             Divorced   Handlers-cleaners   Not-in-family   White     Male   \n",
       "3   Married-civ-spouse   Handlers-cleaners         Husband   Black     Male   \n",
       "4   Married-civ-spouse      Prof-specialty            Wife   Black   Female   \n",
       "\n",
       "   capital-gain  capital-loss  hours-per-week  native-country  income  \\\n",
       "0          2174             0              40   United-States   <=50K   \n",
       "1             0             0              13   United-States   <=50K   \n",
       "2             0             0              40   United-States   <=50K   \n",
       "3             0             0              40   United-States   <=50K   \n",
       "4             0             0              40            Cuba   <=50K   \n",
       "\n",
       "          dob                                            address  \\\n",
       "0  1980-11-07   058 Wilson Inlet Apt. 470\\nLake Miguel, FL 06513   \n",
       "1  1969-08-20             9915 Andrew Road\\nEricashire, NC 38090   \n",
       "2  1982-06-03      4656 Tammy Terrace\\nEast Tonyahaven, NE 13680   \n",
       "3  1967-06-23     503 Danielle Dam\\nSouth Melissashire, AR 33167   \n",
       "4  1992-06-16  584 Anderson Forks Suite 203\\nGilesside, NM 78530   \n",
       "\n",
       "                pob  \n",
       "0  Washington, D.C.  \n",
       "1  Washington, D.C.  \n",
       "2  Washington, D.C.  \n",
       "3  Washington, D.C.  \n",
       "4            Habana  "
      ]
     },
     "execution_count": 4,
     "metadata": {},
     "output_type": "execute_result"
    }
   ],
   "source": [
    "real_data, metadata = download_demo(\n",
    "    modality='single_table',\n",
    "    dataset_name='census_extended'\n",
    ")\n",
    "len(real_data)\n",
    "real_data.head()"
   ]
  },
  {
   "cell_type": "markdown",
   "id": "73b2eec7",
   "metadata": {},
   "source": [
    "Overview of the metadata for the selected dataset"
   ]
  },
  {
   "cell_type": "code",
   "execution_count": 6,
   "id": "5118cfca",
   "metadata": {},
   "outputs": [
    {
     "data": {
      "image/svg+xml": [
       "<?xml version=\"1.0\" encoding=\"UTF-8\" standalone=\"no\"?>\n",
       "<!DOCTYPE svg PUBLIC \"-//W3C//DTD SVG 1.1//EN\"\n",
       " \"http://www.w3.org/Graphics/SVG/1.1/DTD/svg11.dtd\">\n",
       "<!-- Generated by graphviz version 12.2.1 (20241206.2353)\n",
       " -->\n",
       "<!-- Title: Metadata Pages: 1 -->\n",
       "<svg width=\"175pt\" height=\"380pt\"\n",
       " viewBox=\"0.00 0.00 174.75 379.50\" xmlns=\"http://www.w3.org/2000/svg\" xmlns:xlink=\"http://www.w3.org/1999/xlink\">\n",
       "<g id=\"graph0\" class=\"graph\" transform=\"scale(1 1) rotate(0) translate(4 375.5)\">\n",
       "<title>Metadata</title>\n",
       "<polygon fill=\"white\" stroke=\"none\" points=\"-4,4 -4,-375.5 170.75,-375.5 170.75,4 -4,4\"/>\n",
       "<!-- census_extended -->\n",
       "<g id=\"node1\" class=\"node\">\n",
       "<title>census_extended</title>\n",
       "<path fill=\"#ffec8b\" stroke=\"black\" d=\"M12,-0.5C12,-0.5 154.75,-0.5 154.75,-0.5 160.75,-0.5 166.75,-6.5 166.75,-12.5 166.75,-12.5 166.75,-359 166.75,-359 166.75,-365 160.75,-371 154.75,-371 154.75,-371 12,-371 12,-371 6,-371 0,-365 0,-359 0,-359 0,-12.5 0,-12.5 0,-6.5 6,-0.5 12,-0.5\"/>\n",
       "<text text-anchor=\"middle\" x=\"83.38\" y=\"-353.7\" font-family=\"Times,serif\" font-size=\"14.00\">census_extended</text>\n",
       "<polyline fill=\"none\" stroke=\"black\" points=\"0,-346.5 166.75,-346.5\"/>\n",
       "<text text-anchor=\"start\" x=\"8\" y=\"-329.2\" font-family=\"Times,serif\" font-size=\"14.00\">id : id</text>\n",
       "<text text-anchor=\"start\" x=\"8\" y=\"-312.7\" font-family=\"Times,serif\" font-size=\"14.00\">relationship : categorical</text>\n",
       "<text text-anchor=\"start\" x=\"8\" y=\"-296.2\" font-family=\"Times,serif\" font-size=\"14.00\">sex : categorical</text>\n",
       "<text text-anchor=\"start\" x=\"8\" y=\"-279.7\" font-family=\"Times,serif\" font-size=\"14.00\">income : categorical</text>\n",
       "<text text-anchor=\"start\" x=\"8\" y=\"-263.2\" font-family=\"Times,serif\" font-size=\"14.00\">education&#45;num : numerical</text>\n",
       "<text text-anchor=\"start\" x=\"8\" y=\"-246.7\" font-family=\"Times,serif\" font-size=\"14.00\">workclass : categorical</text>\n",
       "<text text-anchor=\"start\" x=\"8\" y=\"-230.2\" font-family=\"Times,serif\" font-size=\"14.00\">hours&#45;per&#45;week : numerical</text>\n",
       "<text text-anchor=\"start\" x=\"8\" y=\"-213.7\" font-family=\"Times,serif\" font-size=\"14.00\">fnlwgt : numerical</text>\n",
       "<text text-anchor=\"start\" x=\"8\" y=\"-197.2\" font-family=\"Times,serif\" font-size=\"14.00\">race : categorical</text>\n",
       "<text text-anchor=\"start\" x=\"8\" y=\"-180.7\" font-family=\"Times,serif\" font-size=\"14.00\">occupation : categorical</text>\n",
       "<text text-anchor=\"start\" x=\"8\" y=\"-164.2\" font-family=\"Times,serif\" font-size=\"14.00\">age : numerical</text>\n",
       "<text text-anchor=\"start\" x=\"8\" y=\"-147.7\" font-family=\"Times,serif\" font-size=\"14.00\">capital&#45;gain : numerical</text>\n",
       "<text text-anchor=\"start\" x=\"8\" y=\"-131.2\" font-family=\"Times,serif\" font-size=\"14.00\">native&#45;country : categorical</text>\n",
       "<text text-anchor=\"start\" x=\"8\" y=\"-114.7\" font-family=\"Times,serif\" font-size=\"14.00\">education : categorical</text>\n",
       "<text text-anchor=\"start\" x=\"8\" y=\"-98.2\" font-family=\"Times,serif\" font-size=\"14.00\">marital&#45;status : categorical</text>\n",
       "<text text-anchor=\"start\" x=\"8\" y=\"-81.7\" font-family=\"Times,serif\" font-size=\"14.00\">capital&#45;loss : numerical</text>\n",
       "<text text-anchor=\"start\" x=\"8\" y=\"-65.2\" font-family=\"Times,serif\" font-size=\"14.00\">dob : datetime</text>\n",
       "<text text-anchor=\"start\" x=\"8\" y=\"-48.7\" font-family=\"Times,serif\" font-size=\"14.00\">pob : categorical</text>\n",
       "<text text-anchor=\"start\" x=\"8\" y=\"-32.2\" font-family=\"Times,serif\" font-size=\"14.00\">address : address</text>\n",
       "<polyline fill=\"none\" stroke=\"black\" points=\"0,-25 166.75,-25\"/>\n",
       "<text text-anchor=\"start\" x=\"8\" y=\"-7.7\" font-family=\"Times,serif\" font-size=\"14.00\">Primary key: id</text>\n",
       "</g>\n",
       "</g>\n",
       "</svg>\n"
      ],
      "text/plain": [
       "<graphviz.graphs.Digraph at 0x7fbd51844910>"
      ]
     },
     "execution_count": 6,
     "metadata": {},
     "output_type": "execute_result"
    }
   ],
   "source": [
    "metadata.visualize()"
   ]
  },
  {
   "cell_type": "markdown",
   "id": "60feec68",
   "metadata": {},
   "source": [
    "## 3. Creating the synthesizer"
   ]
  },
  {
   "cell_type": "markdown",
   "id": "b844064c",
   "metadata": {},
   "source": [
    "Create the synthesizer using the CTGAN algorithm':"
   ]
  },
  {
   "cell_type": "code",
   "execution_count": 7,
   "id": "4fc416a0",
   "metadata": {},
   "outputs": [],
   "source": [
    "synthesizer = CTGANSynthesizer(metadata)"
   ]
  },
  {
   "cell_type": "markdown",
   "id": "69bddb05",
   "metadata": {},
   "source": [
    "Train the synthesizer using the real data (`real_data`):"
   ]
  },
  {
   "cell_type": "code",
   "execution_count": 8,
   "id": "e5c6f894",
   "metadata": {},
   "outputs": [
    {
     "name": "stderr",
     "output_type": "stream",
     "text": [
      "/home/fabinatix/.local/lib/python3.13/site-packages/sdv/metadata/multi_table.py:880: UserWarning: No 'datetime_format' is present in the metadata for the following columns:\n",
      "      Table Name Column Name   sdtype datetime_format\n",
      "census_extended         dob datetime            None\n",
      "Without this specification, SDV may not be able to accurately parse the data. We recommend adding datetime formats using 'update_column'.\n",
      "  warnings.warn(warning_msg)\n"
     ]
    },
    {
     "name": "stdout",
     "output_type": "stream",
     "text": [
      "Training time: 17 minutes and 18.18 seconds\n"
     ]
    }
   ],
   "source": [
    "start_time = time.time()\n",
    "synthesizer.fit(\n",
    "    data=real_data\n",
    ")\n",
    "end_time = time.time()\n",
    "execution_time = end_time - start_time\n",
    "minutes = int(execution_time // 60)\n",
    "seconds = execution_time % 60\n",
    "\n",
    "print(f\"Training time: {minutes} minutes and {seconds:.2f} seconds\")"
   ]
  },
  {
   "cell_type": "markdown",
   "id": "65af02de",
   "metadata": {},
   "source": [
    "Computed loss values for each epoch for both the generator and discriminator:"
   ]
  },
  {
   "cell_type": "code",
   "execution_count": 9,
   "id": "5efcfec8",
   "metadata": {},
   "outputs": [
    {
     "data": {
      "text/html": [
       "<div>\n",
       "<style scoped>\n",
       "    .dataframe tbody tr th:only-of-type {\n",
       "        vertical-align: middle;\n",
       "    }\n",
       "\n",
       "    .dataframe tbody tr th {\n",
       "        vertical-align: top;\n",
       "    }\n",
       "\n",
       "    .dataframe thead th {\n",
       "        text-align: right;\n",
       "    }\n",
       "</style>\n",
       "<table border=\"1\" class=\"dataframe\">\n",
       "  <thead>\n",
       "    <tr style=\"text-align: right;\">\n",
       "      <th></th>\n",
       "      <th>Epoch</th>\n",
       "      <th>Generator Loss</th>\n",
       "      <th>Discriminator Loss</th>\n",
       "    </tr>\n",
       "  </thead>\n",
       "  <tbody>\n",
       "    <tr>\n",
       "      <th>0</th>\n",
       "      <td>0</td>\n",
       "      <td>2.055074</td>\n",
       "      <td>-0.400126</td>\n",
       "    </tr>\n",
       "    <tr>\n",
       "      <th>1</th>\n",
       "      <td>1</td>\n",
       "      <td>0.736408</td>\n",
       "      <td>0.290183</td>\n",
       "    </tr>\n",
       "    <tr>\n",
       "      <th>2</th>\n",
       "      <td>2</td>\n",
       "      <td>0.410203</td>\n",
       "      <td>0.206665</td>\n",
       "    </tr>\n",
       "    <tr>\n",
       "      <th>3</th>\n",
       "      <td>3</td>\n",
       "      <td>0.021038</td>\n",
       "      <td>0.248245</td>\n",
       "    </tr>\n",
       "    <tr>\n",
       "      <th>4</th>\n",
       "      <td>4</td>\n",
       "      <td>-0.166606</td>\n",
       "      <td>-0.206853</td>\n",
       "    </tr>\n",
       "    <tr>\n",
       "      <th>...</th>\n",
       "      <td>...</td>\n",
       "      <td>...</td>\n",
       "      <td>...</td>\n",
       "    </tr>\n",
       "    <tr>\n",
       "      <th>295</th>\n",
       "      <td>295</td>\n",
       "      <td>-0.701132</td>\n",
       "      <td>0.099130</td>\n",
       "    </tr>\n",
       "    <tr>\n",
       "      <th>296</th>\n",
       "      <td>296</td>\n",
       "      <td>-0.902452</td>\n",
       "      <td>-0.311760</td>\n",
       "    </tr>\n",
       "    <tr>\n",
       "      <th>297</th>\n",
       "      <td>297</td>\n",
       "      <td>-0.753042</td>\n",
       "      <td>-0.165902</td>\n",
       "    </tr>\n",
       "    <tr>\n",
       "      <th>298</th>\n",
       "      <td>298</td>\n",
       "      <td>-0.870611</td>\n",
       "      <td>-0.327954</td>\n",
       "    </tr>\n",
       "    <tr>\n",
       "      <th>299</th>\n",
       "      <td>299</td>\n",
       "      <td>-0.644533</td>\n",
       "      <td>-0.140851</td>\n",
       "    </tr>\n",
       "  </tbody>\n",
       "</table>\n",
       "<p>300 rows × 3 columns</p>\n",
       "</div>"
      ],
      "text/plain": [
       "     Epoch  Generator Loss  Discriminator Loss\n",
       "0        0        2.055074           -0.400126\n",
       "1        1        0.736408            0.290183\n",
       "2        2        0.410203            0.206665\n",
       "3        3        0.021038            0.248245\n",
       "4        4       -0.166606           -0.206853\n",
       "..     ...             ...                 ...\n",
       "295    295       -0.701132            0.099130\n",
       "296    296       -0.902452           -0.311760\n",
       "297    297       -0.753042           -0.165902\n",
       "298    298       -0.870611           -0.327954\n",
       "299    299       -0.644533           -0.140851\n",
       "\n",
       "[300 rows x 3 columns]"
      ]
     },
     "execution_count": 9,
     "metadata": {},
     "output_type": "execute_result"
    }
   ],
   "source": [
    "synthesizer.get_loss_values()"
   ]
  },
  {
   "cell_type": "markdown",
   "id": "56a60967",
   "metadata": {},
   "source": [
    "Optional visualization of the loss values:"
   ]
  },
  {
   "cell_type": "code",
   "execution_count": 1,
   "id": "a030235d",
   "metadata": {},
   "outputs": [
    {
     "ename": "NameError",
     "evalue": "name 'synthesizer' is not defined",
     "output_type": "error",
     "traceback": [
      "\u001b[31m---------------------------------------------------------------------------\u001b[39m",
      "\u001b[31mNameError\u001b[39m                                 Traceback (most recent call last)",
      "\u001b[36mCell\u001b[39m\u001b[36m \u001b[39m\u001b[32mIn[1]\u001b[39m\u001b[32m, line 1\u001b[39m\n\u001b[32m----> \u001b[39m\u001b[32m1\u001b[39m fig = \u001b[43msynthesizer\u001b[49m.get_loss_values_plot()\n\u001b[32m      2\u001b[39m fig.show()\n",
      "\u001b[31mNameError\u001b[39m: name 'synthesizer' is not defined"
     ]
    }
   ],
   "source": [
    "\n",
    "fig = synthesizer.get_loss_values_plot()\n",
    "fig.show()"
   ]
  },
  {
   "cell_type": "markdown",
   "id": "64757e11",
   "metadata": {},
   "source": [
    "## 4. Generate synthetic data"
   ]
  },
  {
   "cell_type": "code",
   "execution_count": null,
   "id": "3826c133",
   "metadata": {},
   "outputs": [],
   "source": [
    "synthetic_data = synthesizer.sample(\n",
    "    num_rows=5000\n",
    ")"
   ]
  },
  {
   "cell_type": "markdown",
   "id": "e0bf4a27",
   "metadata": {},
   "source": [
    "Compare real data with synthetic data:"
   ]
  },
  {
   "cell_type": "code",
   "execution_count": null,
   "id": "d823f598",
   "metadata": {},
   "outputs": [],
   "source": [
    "real_data[5:10]\n",
    "synthetic_data.head()"
   ]
  },
  {
   "cell_type": "markdown",
   "id": "0f4e6c54",
   "metadata": {},
   "source": [
    "## 5. Evaluation of real vs. synthetic data\n",
    "\n",
    "### 5.1 Diagnostic"
   ]
  },
  {
   "cell_type": "code",
   "execution_count": null,
   "id": "dc84f263",
   "metadata": {},
   "outputs": [],
   "source": [
    "diagnostic = run_diagnostic(\n",
    "    real_data=real_data,\n",
    "    synthetic_data=synthetic_data,\n",
    "    metadata=metadata\n",
    ")"
   ]
  },
  {
   "cell_type": "markdown",
   "id": "b2ef7291",
   "metadata": {},
   "source": [
    "### 5.2 Data quality"
   ]
  },
  {
   "cell_type": "code",
   "execution_count": null,
   "id": "a8a124a5",
   "metadata": {},
   "outputs": [],
   "source": [
    "quality_report = evaluate_quality(\n",
    "    real_data=real_data,\n",
    "    synthetic_data=synthetic_data,\n",
    "    metadata=metadata\n",
    ")"
   ]
  },
  {
   "cell_type": "markdown",
   "id": "58224d1f",
   "metadata": {},
   "source": [
    "Overview of detailed values:"
   ]
  },
  {
   "cell_type": "code",
   "execution_count": null,
   "id": "c50c0319",
   "metadata": {},
   "outputs": [],
   "source": [
    "quality_report.get_details('Column Shapes')"
   ]
  },
  {
   "cell_type": "markdown",
   "id": "b4029a8d",
   "metadata": {},
   "source": [
    "### 5.3 Anonymization\n",
    "\n",
    "The original dataset included some sensitive columns such as residential address or place of birth. In the synthetic data, these columns are fully anonymized – they contain entirely fake values that match the format of the original data."
   ]
  },
  {
   "cell_type": "code",
   "execution_count": null,
   "id": "4fb77e94",
   "metadata": {},
   "outputs": [],
   "source": [
    "sensitive_column_names = ['dob', 'pob', 'address']\n",
    "real_data[sensitive_column_names].head()\n",
    "synthetic_data[sensitive_column_names].head()"
   ]
  },
  {
   "cell_type": "markdown",
   "id": "26df538d",
   "metadata": {},
   "source": [
    "### 5.4 Visualization of the data\n",
    "\n",
    "Age distribution in real and synthetic data:"
   ]
  },
  {
   "cell_type": "code",
   "execution_count": null,
   "id": "ce89f569",
   "metadata": {},
   "outputs": [],
   "source": [
    "fig = get_column_plot(\n",
    "    real_data=real_data,\n",
    "    synthetic_data=synthetic_data,\n",
    "    column_name='age',\n",
    "    metadata=metadata\n",
    ")\n",
    "fig.show()"
   ]
  },
  {
   "cell_type": "markdown",
   "id": "d2971de1",
   "metadata": {},
   "source": [
    "Distribution of years of education in real and synthetic data:"
   ]
  },
  {
   "cell_type": "code",
   "execution_count": null,
   "id": "3b4b4c9a",
   "metadata": {},
   "outputs": [],
   "source": [
    "fig = get_column_plot(\n",
    "    real_data=real_data,\n",
    "    synthetic_data=synthetic_data,\n",
    "    column_name='education-num',\n",
    "    metadata=metadata\n",
    ")\n",
    "fig.show()"
   ]
  },
  {
   "cell_type": "markdown",
   "id": "080f968e",
   "metadata": {},
   "source": [
    "Distribution of marital status in real and synthetic data:"
   ]
  },
  {
   "cell_type": "code",
   "execution_count": null,
   "id": "07953f2d",
   "metadata": {},
   "outputs": [],
   "source": [
    "fig = get_column_plot(\n",
    "    real_data=real_data,\n",
    "    synthetic_data=synthetic_data,\n",
    "    column_name='marital-status',\n",
    "    metadata=metadata\n",
    ")\n",
    "fig.show()"
   ]
  },
  {
   "cell_type": "markdown",
   "id": "2495f547",
   "metadata": {},
   "source": [
    "Correlation between type of employment and years of education:"
   ]
  },
  {
   "cell_type": "code",
   "execution_count": null,
   "id": "79a1fd3c",
   "metadata": {},
   "outputs": [],
   "source": [
    "fig = get_column_pair_plot(\n",
    "    real_data=real_data,\n",
    "    synthetic_data=synthetic_data,\n",
    "    column_names=['education-num', 'occupation'],\n",
    "    metadata=metadata\n",
    ")\n",
    "fig.show()"
   ]
  },
  {
   "cell_type": "markdown",
   "id": "ec6d12b5",
   "metadata": {},
   "source": [
    "Correlation between ethnicity and years of education:"
   ]
  },
  {
   "cell_type": "code",
   "execution_count": null,
   "id": "d5902b61",
   "metadata": {},
   "outputs": [],
   "source": [
    "fig = get_column_pair_plot(\n",
    "    real_data=real_data,\n",
    "    synthetic_data=synthetic_data,\n",
    "    column_names=['education-num', 'race'],\n",
    "    metadata=metadata\n",
    ")\n",
    "fig.show()"
   ]
  },
  {
   "cell_type": "markdown",
   "id": "a8e02325",
   "metadata": {},
   "source": [
    "Correlation between income and years of education:"
   ]
  },
  {
   "cell_type": "code",
   "execution_count": null,
   "id": "07144259",
   "metadata": {},
   "outputs": [],
   "source": [
    "fig = get_column_pair_plot(\n",
    "    real_data=real_data,\n",
    "    synthetic_data=synthetic_data,\n",
    "    column_names=['education-num', 'income'],\n",
    "    metadata=metadata\n",
    ")\n",
    "fig.show()"
   ]
  }
 ],
 "metadata": {
  "kernelspec": {
   "display_name": "Python 3",
   "language": "python",
   "name": "python3"
  },
  "language_info": {
   "codemirror_mode": {
    "name": "ipython",
    "version": 3
   },
   "file_extension": ".py",
   "mimetype": "text/x-python",
   "name": "python",
   "nbconvert_exporter": "python",
   "pygments_lexer": "ipython3",
   "version": "3.13.3"
  }
 },
 "nbformat": 4,
 "nbformat_minor": 5
}
